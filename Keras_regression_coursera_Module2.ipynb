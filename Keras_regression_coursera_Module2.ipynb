{
 "cells": [
  {
   "cell_type": "code",
   "execution_count": 64,
   "id": "d88425cb",
   "metadata": {},
   "outputs": [],
   "source": [
    "import pandas as pd\n",
    "import numpy as np\n",
    "from sklearn.model_selection import train_test_split\n",
    "from sklearn.metrics import mean_squared_error\n",
    "from sklearn.metrics import mean_absolute_error\n",
    "from keras.models import Sequential\n",
    "from keras.layers import Dense\n",
    "from statistics import mean"
   ]
  },
  {
   "cell_type": "code",
   "execution_count": 65,
   "id": "16ef9fa1",
   "metadata": {},
   "outputs": [
    {
     "data": {
      "text/html": [
       "<div>\n",
       "<style scoped>\n",
       "    .dataframe tbody tr th:only-of-type {\n",
       "        vertical-align: middle;\n",
       "    }\n",
       "\n",
       "    .dataframe tbody tr th {\n",
       "        vertical-align: top;\n",
       "    }\n",
       "\n",
       "    .dataframe thead th {\n",
       "        text-align: right;\n",
       "    }\n",
       "</style>\n",
       "<table border=\"1\" class=\"dataframe\">\n",
       "  <thead>\n",
       "    <tr style=\"text-align: right;\">\n",
       "      <th></th>\n",
       "      <th>Cement</th>\n",
       "      <th>Blast Furnace Slag</th>\n",
       "      <th>Fly Ash</th>\n",
       "      <th>Water</th>\n",
       "      <th>Superplasticizer</th>\n",
       "      <th>Coarse Aggregate</th>\n",
       "      <th>Fine Aggregate</th>\n",
       "      <th>Age</th>\n",
       "      <th>Strength</th>\n",
       "    </tr>\n",
       "  </thead>\n",
       "  <tbody>\n",
       "    <tr>\n",
       "      <th>0</th>\n",
       "      <td>540.0</td>\n",
       "      <td>0.0</td>\n",
       "      <td>0.0</td>\n",
       "      <td>162.0</td>\n",
       "      <td>2.5</td>\n",
       "      <td>1040.0</td>\n",
       "      <td>676.0</td>\n",
       "      <td>28</td>\n",
       "      <td>79.99</td>\n",
       "    </tr>\n",
       "    <tr>\n",
       "      <th>1</th>\n",
       "      <td>540.0</td>\n",
       "      <td>0.0</td>\n",
       "      <td>0.0</td>\n",
       "      <td>162.0</td>\n",
       "      <td>2.5</td>\n",
       "      <td>1055.0</td>\n",
       "      <td>676.0</td>\n",
       "      <td>28</td>\n",
       "      <td>61.89</td>\n",
       "    </tr>\n",
       "    <tr>\n",
       "      <th>2</th>\n",
       "      <td>332.5</td>\n",
       "      <td>142.5</td>\n",
       "      <td>0.0</td>\n",
       "      <td>228.0</td>\n",
       "      <td>0.0</td>\n",
       "      <td>932.0</td>\n",
       "      <td>594.0</td>\n",
       "      <td>270</td>\n",
       "      <td>40.27</td>\n",
       "    </tr>\n",
       "    <tr>\n",
       "      <th>3</th>\n",
       "      <td>332.5</td>\n",
       "      <td>142.5</td>\n",
       "      <td>0.0</td>\n",
       "      <td>228.0</td>\n",
       "      <td>0.0</td>\n",
       "      <td>932.0</td>\n",
       "      <td>594.0</td>\n",
       "      <td>365</td>\n",
       "      <td>41.05</td>\n",
       "    </tr>\n",
       "    <tr>\n",
       "      <th>4</th>\n",
       "      <td>198.6</td>\n",
       "      <td>132.4</td>\n",
       "      <td>0.0</td>\n",
       "      <td>192.0</td>\n",
       "      <td>0.0</td>\n",
       "      <td>978.4</td>\n",
       "      <td>825.5</td>\n",
       "      <td>360</td>\n",
       "      <td>44.30</td>\n",
       "    </tr>\n",
       "  </tbody>\n",
       "</table>\n",
       "</div>"
      ],
      "text/plain": [
       "   Cement  Blast Furnace Slag  Fly Ash  Water  Superplasticizer  \\\n",
       "0   540.0                 0.0      0.0  162.0               2.5   \n",
       "1   540.0                 0.0      0.0  162.0               2.5   \n",
       "2   332.5               142.5      0.0  228.0               0.0   \n",
       "3   332.5               142.5      0.0  228.0               0.0   \n",
       "4   198.6               132.4      0.0  192.0               0.0   \n",
       "\n",
       "   Coarse Aggregate  Fine Aggregate  Age  Strength  \n",
       "0            1040.0           676.0   28     79.99  \n",
       "1            1055.0           676.0   28     61.89  \n",
       "2             932.0           594.0  270     40.27  \n",
       "3             932.0           594.0  365     41.05  \n",
       "4             978.4           825.5  360     44.30  "
      ]
     },
     "execution_count": 65,
     "metadata": {},
     "output_type": "execute_result"
    }
   ],
   "source": [
    "#load the dataset\n",
    "concrete_data = pd.read_csv('concrete_data.csv')\n",
    "concrete_data.head()"
   ]
  },
  {
   "cell_type": "code",
   "execution_count": 66,
   "id": "6a047e2d",
   "metadata": {},
   "outputs": [
    {
     "data": {
      "text/html": [
       "<div>\n",
       "<style scoped>\n",
       "    .dataframe tbody tr th:only-of-type {\n",
       "        vertical-align: middle;\n",
       "    }\n",
       "\n",
       "    .dataframe tbody tr th {\n",
       "        vertical-align: top;\n",
       "    }\n",
       "\n",
       "    .dataframe thead th {\n",
       "        text-align: right;\n",
       "    }\n",
       "</style>\n",
       "<table border=\"1\" class=\"dataframe\">\n",
       "  <thead>\n",
       "    <tr style=\"text-align: right;\">\n",
       "      <th></th>\n",
       "      <th>Cement</th>\n",
       "      <th>Blast Furnace Slag</th>\n",
       "      <th>Fly Ash</th>\n",
       "      <th>Water</th>\n",
       "      <th>Superplasticizer</th>\n",
       "      <th>Coarse Aggregate</th>\n",
       "      <th>Fine Aggregate</th>\n",
       "      <th>Age</th>\n",
       "      <th>Strength</th>\n",
       "    </tr>\n",
       "  </thead>\n",
       "  <tbody>\n",
       "    <tr>\n",
       "      <th>count</th>\n",
       "      <td>1030.000000</td>\n",
       "      <td>1030.000000</td>\n",
       "      <td>1030.000000</td>\n",
       "      <td>1030.000000</td>\n",
       "      <td>1030.000000</td>\n",
       "      <td>1030.000000</td>\n",
       "      <td>1030.000000</td>\n",
       "      <td>1030.000000</td>\n",
       "      <td>1030.000000</td>\n",
       "    </tr>\n",
       "    <tr>\n",
       "      <th>mean</th>\n",
       "      <td>281.167864</td>\n",
       "      <td>73.895825</td>\n",
       "      <td>54.188350</td>\n",
       "      <td>181.567282</td>\n",
       "      <td>6.204660</td>\n",
       "      <td>972.918932</td>\n",
       "      <td>773.580485</td>\n",
       "      <td>45.662136</td>\n",
       "      <td>35.817961</td>\n",
       "    </tr>\n",
       "    <tr>\n",
       "      <th>std</th>\n",
       "      <td>104.506364</td>\n",
       "      <td>86.279342</td>\n",
       "      <td>63.997004</td>\n",
       "      <td>21.354219</td>\n",
       "      <td>5.973841</td>\n",
       "      <td>77.753954</td>\n",
       "      <td>80.175980</td>\n",
       "      <td>63.169912</td>\n",
       "      <td>16.705742</td>\n",
       "    </tr>\n",
       "    <tr>\n",
       "      <th>min</th>\n",
       "      <td>102.000000</td>\n",
       "      <td>0.000000</td>\n",
       "      <td>0.000000</td>\n",
       "      <td>121.800000</td>\n",
       "      <td>0.000000</td>\n",
       "      <td>801.000000</td>\n",
       "      <td>594.000000</td>\n",
       "      <td>1.000000</td>\n",
       "      <td>2.330000</td>\n",
       "    </tr>\n",
       "    <tr>\n",
       "      <th>25%</th>\n",
       "      <td>192.375000</td>\n",
       "      <td>0.000000</td>\n",
       "      <td>0.000000</td>\n",
       "      <td>164.900000</td>\n",
       "      <td>0.000000</td>\n",
       "      <td>932.000000</td>\n",
       "      <td>730.950000</td>\n",
       "      <td>7.000000</td>\n",
       "      <td>23.710000</td>\n",
       "    </tr>\n",
       "    <tr>\n",
       "      <th>50%</th>\n",
       "      <td>272.900000</td>\n",
       "      <td>22.000000</td>\n",
       "      <td>0.000000</td>\n",
       "      <td>185.000000</td>\n",
       "      <td>6.400000</td>\n",
       "      <td>968.000000</td>\n",
       "      <td>779.500000</td>\n",
       "      <td>28.000000</td>\n",
       "      <td>34.445000</td>\n",
       "    </tr>\n",
       "    <tr>\n",
       "      <th>75%</th>\n",
       "      <td>350.000000</td>\n",
       "      <td>142.950000</td>\n",
       "      <td>118.300000</td>\n",
       "      <td>192.000000</td>\n",
       "      <td>10.200000</td>\n",
       "      <td>1029.400000</td>\n",
       "      <td>824.000000</td>\n",
       "      <td>56.000000</td>\n",
       "      <td>46.135000</td>\n",
       "    </tr>\n",
       "    <tr>\n",
       "      <th>max</th>\n",
       "      <td>540.000000</td>\n",
       "      <td>359.400000</td>\n",
       "      <td>200.100000</td>\n",
       "      <td>247.000000</td>\n",
       "      <td>32.200000</td>\n",
       "      <td>1145.000000</td>\n",
       "      <td>992.600000</td>\n",
       "      <td>365.000000</td>\n",
       "      <td>82.600000</td>\n",
       "    </tr>\n",
       "  </tbody>\n",
       "</table>\n",
       "</div>"
      ],
      "text/plain": [
       "            Cement  Blast Furnace Slag      Fly Ash        Water  \\\n",
       "count  1030.000000         1030.000000  1030.000000  1030.000000   \n",
       "mean    281.167864           73.895825    54.188350   181.567282   \n",
       "std     104.506364           86.279342    63.997004    21.354219   \n",
       "min     102.000000            0.000000     0.000000   121.800000   \n",
       "25%     192.375000            0.000000     0.000000   164.900000   \n",
       "50%     272.900000           22.000000     0.000000   185.000000   \n",
       "75%     350.000000          142.950000   118.300000   192.000000   \n",
       "max     540.000000          359.400000   200.100000   247.000000   \n",
       "\n",
       "       Superplasticizer  Coarse Aggregate  Fine Aggregate          Age  \\\n",
       "count       1030.000000       1030.000000     1030.000000  1030.000000   \n",
       "mean           6.204660        972.918932      773.580485    45.662136   \n",
       "std            5.973841         77.753954       80.175980    63.169912   \n",
       "min            0.000000        801.000000      594.000000     1.000000   \n",
       "25%            0.000000        932.000000      730.950000     7.000000   \n",
       "50%            6.400000        968.000000      779.500000    28.000000   \n",
       "75%           10.200000       1029.400000      824.000000    56.000000   \n",
       "max           32.200000       1145.000000      992.600000   365.000000   \n",
       "\n",
       "          Strength  \n",
       "count  1030.000000  \n",
       "mean     35.817961  \n",
       "std      16.705742  \n",
       "min       2.330000  \n",
       "25%      23.710000  \n",
       "50%      34.445000  \n",
       "75%      46.135000  \n",
       "max      82.600000  "
      ]
     },
     "execution_count": 66,
     "metadata": {},
     "output_type": "execute_result"
    }
   ],
   "source": [
    "#checking basic stats of each column\n",
    "concrete_data.describe()"
   ]
  },
  {
   "cell_type": "code",
   "execution_count": 67,
   "id": "90d62fd5",
   "metadata": {},
   "outputs": [
    {
     "data": {
      "text/plain": [
       "Cement                0\n",
       "Blast Furnace Slag    0\n",
       "Fly Ash               0\n",
       "Water                 0\n",
       "Superplasticizer      0\n",
       "Coarse Aggregate      0\n",
       "Fine Aggregate        0\n",
       "Age                   0\n",
       "Strength              0\n",
       "dtype: int64"
      ]
     },
     "execution_count": 67,
     "metadata": {},
     "output_type": "execute_result"
    }
   ],
   "source": [
    "#checking for Null values across data\n",
    "concrete_data.isnull().sum()"
   ]
  },
  {
   "cell_type": "code",
   "execution_count": 68,
   "id": "6518b2af",
   "metadata": {},
   "outputs": [
    {
     "data": {
      "text/plain": [
       "Cement                0\n",
       "Blast Furnace Slag    0\n",
       "Fly Ash               0\n",
       "Water                 0\n",
       "Superplasticizer      0\n",
       "Coarse Aggregate      0\n",
       "Fine Aggregate        0\n",
       "Age                   0\n",
       "Strength              0\n",
       "dtype: int64"
      ]
     },
     "execution_count": 68,
     "metadata": {},
     "output_type": "execute_result"
    }
   ],
   "source": [
    "#checking for negative values across data\n",
    "concrete_data.lt(0).sum()"
   ]
  },
  {
   "cell_type": "code",
   "execution_count": 69,
   "id": "38e465ed",
   "metadata": {},
   "outputs": [],
   "source": [
    "#In the instructions, only 7 predictors to be used, hence 'Age' to be dropped\n",
    "concrete_data = concrete_data.drop(['Age'],axis=1)"
   ]
  },
  {
   "cell_type": "markdown",
   "id": "4390c6f2",
   "metadata": {},
   "source": [
    "# PART A"
   ]
  },
  {
   "cell_type": "code",
   "execution_count": 73,
   "id": "53e0565a",
   "metadata": {},
   "outputs": [],
   "source": [
    "#lets initiate the list where all the mean_squared_errors will be appended to\n",
    "mse_partA = []\n",
    "\n",
    "#The loop code is per assignmed (steps 1-3), which is really computationally long due to splitting/training the data 50 times\n",
    "\n",
    "for i in range (50):\n",
    "\n",
    "    #Lets split data using train_test_split function from sklearn with 30% saved for testing\n",
    "    concrete_data_columns = concrete_data.columns\n",
    "    X = concrete_data[concrete_data_columns[concrete_data_columns != 'Strength']] #predictors\n",
    "    y = concrete_data['Strength'] #Target\n",
    "    X_train, X_test, y_train, y_test = train_test_split(X,y,test_size=0.3)\n",
    "\n",
    "    #number of inputs to be used for modelling\n",
    "    n_cols = X.shape[1]\n",
    "\n",
    "    #define regression model\n",
    "    def regression_model():\n",
    "        # create model\n",
    "        model = Sequential()\n",
    "        model.add(Dense(10, activation='relu', input_shape=(n_cols,)))\n",
    "        model.add(Dense(1))\n",
    "\n",
    "        # compile model\n",
    "        model.compile(optimizer='adam', loss='mean_squared_error')\n",
    "        return model\n",
    "\n",
    "    model = regression_model()\n",
    "\n",
    "    #fit the model on the train data\n",
    "    model.fit(X_train, y_train, epochs=50, verbose=0)\n",
    "\n",
    "    #find the predicted Strength using test data\n",
    "    predicted_y = model.predict(X_test,verbose=0)\n",
    "\n",
    "    #estimate MSE between test and predicted Strength values\n",
    "    mse = mean_squared_error(y_test,predicted_y)\n",
    "    mse_partA.append(mse)\n",
    "    \n",
    "    i+1"
   ]
  },
  {
   "cell_type": "code",
   "execution_count": 71,
   "id": "483dfcbb",
   "metadata": {},
   "outputs": [
    {
     "name": "stdout",
     "output_type": "stream",
     "text": [
      "Mean of the MSE list =  449.387111239407 .Standard deviation of the MSE list =  189.46958364863752\n"
     ]
    }
   ],
   "source": [
    "mean_partA = mean(mse_partA)\n",
    "std_partA = np.std(mse_partA)\n",
    "print (\"Mean of the MSE list = \", mean_partA,\".Standard deviation of the MSE list = \", std_partA)"
   ]
  },
  {
   "cell_type": "markdown",
   "id": "5b2028ed",
   "metadata": {},
   "source": [
    "# PART B"
   ]
  },
  {
   "cell_type": "code",
   "execution_count": 75,
   "id": "d36c305a",
   "metadata": {},
   "outputs": [],
   "source": [
    "#Similarly to Part A, but in this case let's normalize the input dataset\n",
    "\n",
    "mse_partB = []\n",
    "\n",
    "for i in range (50):\n",
    "\n",
    "    #Lets split data using train_test_split function from sklearn with 30% saved for testing\n",
    "    concrete_data_columns = concrete_data.columns\n",
    "    X = concrete_data[concrete_data_columns[concrete_data_columns != 'Strength']] #predictors\n",
    "    X = (X - X.mean())/X.std()\n",
    "    y = concrete_data['Strength'] #Target\n",
    "    X_train, X_test, y_train, y_test = train_test_split(X,y,test_size=0.3)\n",
    "\n",
    "    #number of inputs to be used for modelling\n",
    "    n_cols = X.shape[1]\n",
    "\n",
    "    #define regression model\n",
    "    def regression_model():\n",
    "        # create model\n",
    "        model = Sequential()\n",
    "        model.add(Dense(10, activation='relu', input_shape=(n_cols,)))\n",
    "        model.add(Dense(1))\n",
    "\n",
    "        # compile model\n",
    "        model.compile(optimizer='adam', loss='mean_squared_error')\n",
    "        return model\n",
    "\n",
    "    model = regression_model()\n",
    "\n",
    "    #fit the model on the train data\n",
    "    model.fit(X_train, y_train, epochs=50, verbose=0)\n",
    "\n",
    "    #find the predicted Strength using test data\n",
    "    predicted_y = model.predict(X_test,verbose=0)\n",
    "\n",
    "    #estimate MSE between test and predicted Strength values\n",
    "    mse = mean_squared_error(y_test,predicted_y)\n",
    "    mse_partB.append(mse)\n",
    "    \n",
    "    i+1"
   ]
  },
  {
   "cell_type": "code",
   "execution_count": 76,
   "id": "fd5298bc",
   "metadata": {},
   "outputs": [
    {
     "name": "stdout",
     "output_type": "stream",
     "text": [
      "Mean of the MSE list =  357.1215232464367 .Standard deviation of the MSE list =  83.0665694588685\n"
     ]
    }
   ],
   "source": [
    "mean_partB = mean(mse_partB)\n",
    "std_partB = np.std(mse_partB)\n",
    "print (\"Mean of the MSE list = \", mean_partB,\".Standard deviation of the MSE list = \", std_partB)"
   ]
  },
  {
   "cell_type": "code",
   "execution_count": 86,
   "id": "4964487e",
   "metadata": {},
   "outputs": [
    {
     "data": {
      "text/html": [
       "<div>\n",
       "<style scoped>\n",
       "    .dataframe tbody tr th:only-of-type {\n",
       "        vertical-align: middle;\n",
       "    }\n",
       "\n",
       "    .dataframe tbody tr th {\n",
       "        vertical-align: top;\n",
       "    }\n",
       "\n",
       "    .dataframe thead th {\n",
       "        text-align: right;\n",
       "    }\n",
       "</style>\n",
       "<table border=\"1\" class=\"dataframe\">\n",
       "  <thead>\n",
       "    <tr style=\"text-align: right;\">\n",
       "      <th></th>\n",
       "      <th>PartA</th>\n",
       "      <th>PartB</th>\n",
       "    </tr>\n",
       "  </thead>\n",
       "  <tbody>\n",
       "    <tr>\n",
       "      <th>Mean of errors</th>\n",
       "      <td>449.387111</td>\n",
       "      <td>357.121523</td>\n",
       "    </tr>\n",
       "    <tr>\n",
       "      <th>Standard deviation</th>\n",
       "      <td>189.469584</td>\n",
       "      <td>83.066569</td>\n",
       "    </tr>\n",
       "  </tbody>\n",
       "</table>\n",
       "</div>"
      ],
      "text/plain": [
       "                         PartA       PartB\n",
       "Mean of errors      449.387111  357.121523\n",
       "Standard deviation  189.469584   83.066569"
      ]
     },
     "execution_count": 86,
     "metadata": {},
     "output_type": "execute_result"
    }
   ],
   "source": [
    "PartB = pd.DataFrame({\"PartA\":[mean_partA, std_partA],\n",
    "                 \"PartB\":[mean_partB,std_partB]})\n",
    "PartB.index = ['Mean of errors',\"Standard deviation\"]\n",
    "PartB.head()"
   ]
  },
  {
   "cell_type": "markdown",
   "id": "42556f9f",
   "metadata": {},
   "source": [
    "# PART C"
   ]
  },
  {
   "cell_type": "code",
   "execution_count": 77,
   "id": "693a136d",
   "metadata": {},
   "outputs": [],
   "source": [
    "#For Part C the epochs are increased\n",
    "\n",
    "mse_partC = []\n",
    "\n",
    "for i in range (50):\n",
    "\n",
    "    #Lets split data using train_test_split function from sklearn with 30% saved for testing\n",
    "    concrete_data_columns = concrete_data.columns\n",
    "    X = concrete_data[concrete_data_columns[concrete_data_columns != 'Strength']] #predictors\n",
    "    X = (X - X.mean())/X.std()\n",
    "    y = concrete_data['Strength'] #Target\n",
    "    X_train, X_test, y_train, y_test = train_test_split(X,y,test_size=0.3)\n",
    "\n",
    "    #number of inputs to be used for modelling\n",
    "    n_cols = X.shape[1]\n",
    "\n",
    "    #define regression model\n",
    "    def regression_model():\n",
    "        # create model\n",
    "        model = Sequential()\n",
    "        model.add(Dense(10, activation='relu', input_shape=(n_cols,)))\n",
    "        model.add(Dense(1))\n",
    "\n",
    "        # compile model\n",
    "        model.compile(optimizer='adam', loss='mean_squared_error')\n",
    "        return model\n",
    "\n",
    "    model = regression_model()\n",
    "\n",
    "    #fit the model on the train data\n",
    "    model.fit(X_train, y_train, epochs=100, verbose=0)\n",
    "\n",
    "    #find the predicted Strength using test data\n",
    "    predicted_y = model.predict(X_test,verbose=0)\n",
    "\n",
    "    #estimate MSE between test and predicted Strength values\n",
    "    mse = mean_squared_error(y_test,predicted_y)\n",
    "    mse_partC.append(mse)\n",
    "    \n",
    "    i+1"
   ]
  },
  {
   "cell_type": "code",
   "execution_count": 78,
   "id": "0509666f",
   "metadata": {},
   "outputs": [
    {
     "name": "stdout",
     "output_type": "stream",
     "text": [
      "Mean of the MSE list =  197.37828597991225 .Standard deviation of the MSE list =  23.148584925072356\n"
     ]
    }
   ],
   "source": [
    "mean_partC = mean(mse_partC)\n",
    "std_partC = np.std(mse_partC)\n",
    "print (\"Mean of the MSE list = \", mean_partC,\".Standard deviation of the MSE list = \", std_partC)"
   ]
  },
  {
   "cell_type": "code",
   "execution_count": 87,
   "id": "eab3bff1",
   "metadata": {},
   "outputs": [
    {
     "data": {
      "text/html": [
       "<div>\n",
       "<style scoped>\n",
       "    .dataframe tbody tr th:only-of-type {\n",
       "        vertical-align: middle;\n",
       "    }\n",
       "\n",
       "    .dataframe tbody tr th {\n",
       "        vertical-align: top;\n",
       "    }\n",
       "\n",
       "    .dataframe thead th {\n",
       "        text-align: right;\n",
       "    }\n",
       "</style>\n",
       "<table border=\"1\" class=\"dataframe\">\n",
       "  <thead>\n",
       "    <tr style=\"text-align: right;\">\n",
       "      <th></th>\n",
       "      <th>PartC</th>\n",
       "      <th>PartB</th>\n",
       "    </tr>\n",
       "  </thead>\n",
       "  <tbody>\n",
       "    <tr>\n",
       "      <th>Mean of errors</th>\n",
       "      <td>197.378286</td>\n",
       "      <td>357.121523</td>\n",
       "    </tr>\n",
       "    <tr>\n",
       "      <th>Standard deviation</th>\n",
       "      <td>23.148585</td>\n",
       "      <td>83.066569</td>\n",
       "    </tr>\n",
       "  </tbody>\n",
       "</table>\n",
       "</div>"
      ],
      "text/plain": [
       "                         PartC       PartB\n",
       "Mean of errors      197.378286  357.121523\n",
       "Standard deviation   23.148585   83.066569"
      ]
     },
     "execution_count": 87,
     "metadata": {},
     "output_type": "execute_result"
    }
   ],
   "source": [
    "PartC = pd.DataFrame({\"PartC\":[mean_partC, std_partC],\n",
    "                 \"PartB\":[mean_partB,std_partB]})\n",
    "PartC.index = ['Mean of errors',\"Standard deviation\"]\n",
    "PartC.head()"
   ]
  },
  {
   "cell_type": "markdown",
   "id": "c2aa0a94",
   "metadata": {},
   "source": [
    "# PART D"
   ]
  },
  {
   "cell_type": "code",
   "execution_count": 80,
   "id": "a9018347",
   "metadata": {},
   "outputs": [],
   "source": [
    "#Increasing number of hidden layers with ReLu function and 50epochs\n",
    "mse_partD = []\n",
    "\n",
    "for i in range (50):\n",
    "\n",
    "    #Lets split data using train_test_split function from sklearn with 30% saved for testing\n",
    "    concrete_data_columns = concrete_data.columns\n",
    "    X = concrete_data[concrete_data_columns[concrete_data_columns != 'Strength']] #predictors\n",
    "    X = (X - X.mean())/X.std()\n",
    "    y = concrete_data['Strength'] #Target\n",
    "    X_train, X_test, y_train, y_test = train_test_split(X,y,test_size=0.3)\n",
    "\n",
    "    #number of inputs to be used for modelling\n",
    "    n_cols = X.shape[1]\n",
    "\n",
    "    #define regression model\n",
    "    def regression_model():\n",
    "        # create model\n",
    "        model = Sequential()\n",
    "        model.add(Dense(10, activation='relu', input_shape=(n_cols,)))\n",
    "        model.add(Dense(10, activation='relu'))\n",
    "        model.add(Dense(10, activation='relu'))\n",
    "        model.add(Dense(1))\n",
    "\n",
    "        # compile model\n",
    "        model.compile(optimizer='adam', loss='mean_squared_error')\n",
    "        return model\n",
    "\n",
    "    model = regression_model()\n",
    "\n",
    "    #fit the model on the train data\n",
    "    model.fit(X_train, y_train, epochs=50, verbose=0)\n",
    "\n",
    "    #find the predicted Strength using test data\n",
    "    predicted_y = model.predict(X_test,verbose=0)\n",
    "\n",
    "    #estimate MSE between test and predicted Strength values\n",
    "    mse = mean_squared_error(y_test,predicted_y)\n",
    "    mse_partD.append(mse)\n",
    "    \n",
    "    i+1"
   ]
  },
  {
   "cell_type": "code",
   "execution_count": 81,
   "id": "63867206",
   "metadata": {},
   "outputs": [
    {
     "name": "stdout",
     "output_type": "stream",
     "text": [
      "Mean of the MSE list =  170.62194667318835 .Standard deviation of the MSE list =  9.673544935995686\n"
     ]
    }
   ],
   "source": [
    "mean_partD = mean(mse_partD)\n",
    "std_partD = np.std(mse_partD)\n",
    "print (\"Mean of the MSE list = \", mean_partD,\".Standard deviation of the MSE list = \", std_partD)"
   ]
  },
  {
   "cell_type": "code",
   "execution_count": 88,
   "id": "3a26115c",
   "metadata": {},
   "outputs": [
    {
     "data": {
      "text/html": [
       "<div>\n",
       "<style scoped>\n",
       "    .dataframe tbody tr th:only-of-type {\n",
       "        vertical-align: middle;\n",
       "    }\n",
       "\n",
       "    .dataframe tbody tr th {\n",
       "        vertical-align: top;\n",
       "    }\n",
       "\n",
       "    .dataframe thead th {\n",
       "        text-align: right;\n",
       "    }\n",
       "</style>\n",
       "<table border=\"1\" class=\"dataframe\">\n",
       "  <thead>\n",
       "    <tr style=\"text-align: right;\">\n",
       "      <th></th>\n",
       "      <th>PartC</th>\n",
       "      <th>PartB</th>\n",
       "    </tr>\n",
       "  </thead>\n",
       "  <tbody>\n",
       "    <tr>\n",
       "      <th>Mean of errors</th>\n",
       "      <td>170.621947</td>\n",
       "      <td>357.121523</td>\n",
       "    </tr>\n",
       "    <tr>\n",
       "      <th>Standard deviation</th>\n",
       "      <td>9.673545</td>\n",
       "      <td>83.066569</td>\n",
       "    </tr>\n",
       "  </tbody>\n",
       "</table>\n",
       "</div>"
      ],
      "text/plain": [
       "                         PartC       PartB\n",
       "Mean of errors      170.621947  357.121523\n",
       "Standard deviation    9.673545   83.066569"
      ]
     },
     "execution_count": 88,
     "metadata": {},
     "output_type": "execute_result"
    }
   ],
   "source": [
    "PartD = pd.DataFrame({\"PartC\":[mean_partD, std_partD],\n",
    "                 \"PartB\":[mean_partB,std_partB]})\n",
    "PartD.index = ['Mean of errors',\"Standard deviation\"]\n",
    "PartD.head()"
   ]
  },
  {
   "cell_type": "code",
   "execution_count": null,
   "id": "4ac48bf7",
   "metadata": {},
   "outputs": [],
   "source": [
    "#The neural network with the 3 hidden layers and 50 epochs (methodC) provided the best predictions of the cement Strength."
   ]
  }
 ],
 "metadata": {
  "kernelspec": {
   "display_name": "Python 3 (ipykernel)",
   "language": "python",
   "name": "python3"
  },
  "language_info": {
   "codemirror_mode": {
    "name": "ipython",
    "version": 3
   },
   "file_extension": ".py",
   "mimetype": "text/x-python",
   "name": "python",
   "nbconvert_exporter": "python",
   "pygments_lexer": "ipython3",
   "version": "3.7.13"
  }
 },
 "nbformat": 4,
 "nbformat_minor": 5
}
